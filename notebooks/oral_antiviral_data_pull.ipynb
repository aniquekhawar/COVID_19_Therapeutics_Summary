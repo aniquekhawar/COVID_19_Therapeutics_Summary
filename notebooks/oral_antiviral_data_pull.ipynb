{
 "cells": [
  {
   "cell_type": "markdown",
   "metadata": {},
   "source": [
    "# Import Libraries"
   ]
  },
  {
   "cell_type": "code",
   "execution_count": 6,
   "metadata": {},
   "outputs": [],
   "source": [
    "import pandas as pd\n",
    "import requests\n",
    "from bs4 import BeautifulSoup\n",
    "import re"
   ]
  },
  {
   "cell_type": "markdown",
   "metadata": {},
   "source": [
    "# Define Functions"
   ]
  },
  {
   "cell_type": "code",
   "execution_count": 7,
   "metadata": {},
   "outputs": [],
   "source": [
    "# separate out required tables\n",
    "def update_table(curr_data, t):\n",
    "    df = pd.read_html(t)\n",
    "    oav_administered = df[0]\n",
    "    string_filter = 'Paxlovid|Lagevrio'\n",
    "    oav_administered = oav_administered[oav_administered['Therapeutic'].str.contains(string_filter, regex = True)].copy()\n",
    "    oav_administered['Therapeutic'] = oav_administered['Therapeutic'].str.replace('\\d+', '', regex = True)\n",
    "    oav_administered.columns = oav_administered.columns.str.replace('\\d+', '', regex = True)\n",
    "    oav_administered['Last Updated'] = last_updated\n",
    "    oav_administered['Period End'] = period_end\n",
    "    combined_data = pd.concat([curr_data, oav_administered])\n",
    "    return oav_administered, combined_data"
   ]
  },
  {
   "cell_type": "markdown",
   "metadata": {},
   "source": [
    "# Request Current Website"
   ]
  },
  {
   "cell_type": "code",
   "execution_count": 8,
   "metadata": {},
   "outputs": [],
   "source": [
    "# create date settings\n",
    "today_timestamp = pd.Timestamp.now(tz='US/Eastern')\n",
    "today_str = today_timestamp.strftime('%Y-%m-%d')\n",
    "last_updated = today_timestamp.strftime('%Y-%m-%d %H:%M')\n",
    "\n",
    "# get the latest date that the table was updated\n",
    "url = 'https://aspr.hhs.gov/COVID-19/Therapeutics/orders/pages/default.aspx'\n",
    "response = requests.get(url)\n",
    "t = response.text\n",
    "soup = BeautifulSoup(t, features = \"html.parser\")\n",
    "pattern = re.compile(r'December 17, 2021')\n",
    "period_end = soup.find(text = pattern).split('–')[-1].strip()\n",
    "period_end = pd.to_datetime(period_end)"
   ]
  },
  {
   "cell_type": "markdown",
   "metadata": {},
   "source": [
    "## Update Latest Data\n",
    "> This is a conditional, if the table on the webpage has changed, we should update our table. Else just update our latest table."
   ]
  },
  {
   "cell_type": "code",
   "execution_count": 10,
   "metadata": {},
   "outputs": [],
   "source": [
    "curr_data = pd.read_csv('data/COVID_19_Therapeutics_Summary_latest.csv', parse_dates = ['Period End'])\n",
    "if period_end > curr_data['Period End'].max():\n",
    "    oav_administered, combined_data = update_table(curr_data, t)\n",
    "    print('Exporting Tables to CSV.')\n",
    "    oav_administered.to_csv(f'temp/COVID_19_Therapeutics_Summary_{today_str}.csv', index = False)\n",
    "    combined_data.to_csv(f'temp/COVID_19_Therapeutics_Summary_latest.csv', index = False)"
   ]
  }
 ],
 "metadata": {
  "kernelspec": {
   "display_name": "Python 3.9.3 64-bit",
   "language": "python",
   "name": "python3"
  },
  "language_info": {
   "codemirror_mode": {
    "name": "ipython",
    "version": 3
   },
   "file_extension": ".py",
   "mimetype": "text/x-python",
   "name": "python",
   "nbconvert_exporter": "python",
   "pygments_lexer": "ipython3",
   "version": "3.9.3"
  },
  "orig_nbformat": 4,
  "vscode": {
   "interpreter": {
    "hash": "b74c9f4955e1edb508227b265953ce002e5306892a22b07a4fdf5f5709a69309"
   }
  }
 },
 "nbformat": 4,
 "nbformat_minor": 2
}
