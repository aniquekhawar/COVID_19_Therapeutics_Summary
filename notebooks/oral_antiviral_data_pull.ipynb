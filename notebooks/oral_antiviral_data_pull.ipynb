{
 "cells": [
  {
   "cell_type": "code",
   "execution_count": 3,
   "metadata": {},
   "outputs": [],
   "source": [
    "import pandas as pd"
   ]
  },
  {
   "cell_type": "code",
   "execution_count": 8,
   "metadata": {},
   "outputs": [],
   "source": [
    "today_timestamp = pd.Timestamp.now(tz='US/Eastern')\n",
    "today_str = today_timestamp.strftime('%Y-%m-%d')\n",
    "period_end = (today_timestamp - pd.offsets.Week(weekday=6)).strftime('%Y-%m-%d')\n",
    "last_updated = today_timestamp.strftime('%Y-%m-%d %H:%M')"
   ]
  },
  {
   "cell_type": "code",
   "execution_count": 6,
   "metadata": {},
   "outputs": [],
   "source": [
    "df = pd.read_html('https://aspr.hhs.gov/COVID-19/Therapeutics/orders/pages/default.aspx')\n",
    "\n",
    "# separate out required tables\n",
    "oav_administered = df[0]\n",
    "string_filter = 'Paxlovid|Lagevrio'\n",
    "oav_administered = oav_administered[oav_administered['Therapeutic'].str.contains(string_filter, regex = True)].copy()\n",
    "oav_administered['Therapeutic'] = oav_administered['Therapeutic'].str.replace('\\d+', '', regex = True)\n",
    "oav_administered.columns = oav_administered.columns.str.replace('\\d+', '', regex = True)\n",
    "oav_administered['Last Updated'] = last_updated\n",
    "oav_administered['Period End'] = period_end\n",
    "\n",
    "oav_administered.to_csv(f'data/COVID_19_Therapeutics_Summary_{today_str}.csv', index = False)\n",
    "oav_administered.to_csv(f'data/COVID_19_Therapeutics_Summary_latest.csv', index = False)"
   ]
  }
 ],
 "metadata": {
  "interpreter": {
   "hash": "aee8b7b246df8f9039afb4144a1f6fd8d2ca17a180786b69acc140d282b71a49"
  },
  "kernelspec": {
   "display_name": "Python 3.9.4 64-bit",
   "language": "python",
   "name": "python3"
  },
  "language_info": {
   "codemirror_mode": {
    "name": "ipython",
    "version": 3
   },
   "file_extension": ".py",
   "mimetype": "text/x-python",
   "name": "python",
   "nbconvert_exporter": "python",
   "pygments_lexer": "ipython3",
   "version": "3.9.4"
  },
  "orig_nbformat": 4
 },
 "nbformat": 4,
 "nbformat_minor": 2
}
